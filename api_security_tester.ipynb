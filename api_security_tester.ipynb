{
 "cells": [
  {
   "metadata": {},
   "cell_type": "markdown",
   "source": [
    "# Mobile App API Security Tester\n",
    "This notebook demonstrates how to test APIs for common security vulnerabilities, including:\n",
    "- Weak or missing authentication mechanisms.\n",
    "- Unsecured API calls using HTTP.\n",
    "- Sensitive data exposure in API responses or headers.\n"
   ],
   "id": "17728cafdefe0731"
  },
  {
   "cell_type": "code",
   "id": "initial_id",
   "metadata": {
    "collapsed": true,
    "ExecuteTime": {
     "end_time": "2024-11-21T12:41:13.139793Z",
     "start_time": "2024-11-21T12:41:13.136139Z"
    }
   },
   "source": [
    "import requests\n",
    "from prettytable import PrettyTable\n",
    "import json\n",
    "from urllib.parse import urlparse"
   ],
   "outputs": [],
   "execution_count": 16
  },
  {
   "metadata": {
    "ExecuteTime": {
     "end_time": "2024-11-21T12:41:13.176843Z",
     "start_time": "2024-11-21T12:41:13.172539Z"
    }
   },
   "cell_type": "code",
   "source": [
    "def check_https(url):\n",
    "    \"\"\"\n",
    "    Checks if the API endpoint uses HTTPS.\n",
    "    \"\"\"\n",
    "    parsed_url = urlparse(url)\n",
    "    if parsed_url.scheme != 'https':\n",
    "        return \"Insecure (HTTP)\"\n",
    "    return \"Secure (HTTPS)\""
   ],
   "id": "f00bc32c237bdb0",
   "outputs": [],
   "execution_count": 17
  },
  {
   "metadata": {
    "ExecuteTime": {
     "end_time": "2024-11-21T12:41:13.206825Z",
     "start_time": "2024-11-21T12:41:13.199564Z"
    }
   },
   "cell_type": "code",
   "source": [
    "def test_authentication(url, headers=None):\n",
    "    \"\"\"\n",
    "    Tests for missing or weak authentication tokens.\n",
    "    Returns the response status and headers.\n",
    "    \"\"\"\n",
    "    try:\n",
    "        response = requests.get(url, headers=headers, timeout=5)\n",
    "        if response.status_code == 401:\n",
    "            return \"Unauthorized (Authentication Required)\"\n",
    "        elif response.status_code == 403:\n",
    "            return \"Forbidden (Token Invalid or Insufficient Permissions)\"\n",
    "        return f\"Accessible (Status: {response.status_code})\"\n",
    "    except requests.exceptions.RequestException as e:\n",
    "        return f\"Error: {str(e)}\"\n"
   ],
   "id": "b5815a0389ee4f27",
   "outputs": [],
   "execution_count": 18
  },
  {
   "metadata": {
    "ExecuteTime": {
     "end_time": "2024-11-21T12:41:13.222536Z",
     "start_time": "2024-11-21T12:41:13.215317Z"
    }
   },
   "cell_type": "code",
   "source": [
    "def detect_sensitive_data(response):\n",
    "    \"\"\"\n",
    "    Scans API response for sensitive information like API keys or PII.\n",
    "    \"\"\"\n",
    "    sensitive_keywords = ['key', 'token', 'password', 'ssn', 'credit', 'card']\n",
    "    findings = []\n",
    "\n",
    "    try:\n",
    "        # Check response JSON\n",
    "        if response.headers.get('Content-Type') == 'application/json':\n",
    "            data = response.json()\n",
    "            for key in data.keys():\n",
    "                if any(sensitive in key.lower() for sensitive in sensitive_keywords):\n",
    "                    findings.append(f\"Sensitive key detected: {key}\")\n",
    "\n",
    "        # Check headers\n",
    "        for key, value in response.headers.items():\n",
    "            if any(sensitive in key.lower() for sensitive in sensitive_keywords):\n",
    "                findings.append(f\"Sensitive header detected: {key}\")\n",
    "    except json.JSONDecodeError:\n",
    "        pass  # Response is not JSON\n",
    "\n",
    "    return findings or \"No sensitive data detected\""
   ],
   "id": "ba10ba71a5310929",
   "outputs": [],
   "execution_count": 19
  },
  {
   "metadata": {
    "ExecuteTime": {
     "end_time": "2024-11-21T12:41:13.242727Z",
     "start_time": "2024-11-21T12:41:13.235397Z"
    }
   },
   "cell_type": "code",
   "source": [
    "def run_security_tests(url, headers=None):\n",
    "    \"\"\"\n",
    "    Runs all security tests on the given URL.\n",
    "    \"\"\"\n",
    "    results = []\n",
    "\n",
    "    # Test for HTTPS\n",
    "    https_status = check_https(url)\n",
    "    results.append((\"HTTPS Check\", https_status))\n",
    "\n",
    "    # Test authentication\n",
    "    auth_status = test_authentication(url, headers)\n",
    "    results.append((\"Authentication Check\", auth_status))\n",
    "\n",
    "    # Test sensitive data exposure\n",
    "    try:\n",
    "        response = requests.get(url, headers=headers, timeout=5)\n",
    "        sensitive_data = detect_sensitive_data(response)\n",
    "    except requests.exceptions.RequestException as e:\n",
    "        sensitive_data = [f\"Error: {str(e)}\"]\n",
    "    results.append((\"Sensitive Data Check\", sensitive_data))\n",
    "\n",
    "    return results"
   ],
   "id": "a893530c7579cade",
   "outputs": [],
   "execution_count": 20
  },
  {
   "metadata": {
    "ExecuteTime": {
     "end_time": "2024-11-21T12:41:13.258232Z",
     "start_time": "2024-11-21T12:41:13.253043Z"
    }
   },
   "cell_type": "code",
   "source": [
    "def display_report(results):\n",
    "    \"\"\"\n",
    "    Displays the test results in a tabular format.\n",
    "    \"\"\"\n",
    "    table = PrettyTable()\n",
    "    table.field_names = [\"Test\", \"Result\"]\n",
    "    for test, result in results:\n",
    "        if isinstance(result, list):\n",
    "            result = \"\\n\".join(result)\n",
    "        table.add_row([test, result])\n",
    "    print(table)\n"
   ],
   "id": "a1aaf2a8d5eaf01c",
   "outputs": [],
   "execution_count": 21
  },
  {
   "metadata": {
    "ExecuteTime": {
     "end_time": "2024-11-21T13:22:39.008921Z",
     "start_time": "2024-11-21T13:22:35.951391Z"
    }
   },
   "cell_type": "code",
   "source": [
    "# Example: Testing JSONPlaceholder API\n",
    "url = \"http://jsonplaceholder.typicode.com/posts\"  # Public API endpoint\n",
    "\n",
    "# No headers required for this public API\n",
    "headers = {}\n",
    "\n",
    "# Run the security tests\n",
    "results = run_security_tests(url, headers)\n",
    "\n",
    "# Display the test report\n",
    "display_report(results)\n"
   ],
   "id": "6cdad582619e7c64",
   "outputs": [
    {
     "name": "stdout",
     "output_type": "stream",
     "text": [
      "+----------------------+----------------------------+\n",
      "|         Test         |           Result           |\n",
      "+----------------------+----------------------------+\n",
      "|     HTTPS Check      |      Insecure (HTTP)       |\n",
      "| Authentication Check |  Accessible (Status: 200)  |\n",
      "| Sensitive Data Check | No sensitive data detected |\n",
      "+----------------------+----------------------------+\n"
     ]
    }
   ],
   "execution_count": 26
  },
  {
   "metadata": {
    "ExecuteTime": {
     "end_time": "2024-11-21T13:28:28.140867Z",
     "start_time": "2024-11-21T13:28:25.783932Z"
    }
   },
   "cell_type": "code",
   "source": [
    "import sys\n",
    "import json\n",
    "import argparse\n",
    "\n",
    "# Simulate command-line arguments\n",
    "sys.argv = [\"script_name\", \"http://jsonplaceholder.typicode.com/posts\", \"--headers\", '{\"Authorization\": \"Bearer example_token\"}']\n",
    "\n",
    "# Argument parsing\n",
    "parser = argparse.ArgumentParser(description=\"Mobile App API Security Tester\")\n",
    "parser.add_argument(\"url\", help=\"API endpoint URL\")\n",
    "parser.add_argument(\"--headers\", help=\"Headers as JSON string\", default=\"{}\")\n",
    "args = parser.parse_args()\n",
    "\n",
    "# Process arguments\n",
    "url = args.url\n",
    "headers = json.loads(args.headers)\n",
    "\n",
    "# Run tests\n",
    "results = run_security_tests(url, headers)\n",
    "display_report(results)\n"
   ],
   "id": "57faf75a66f50606",
   "outputs": [
    {
     "name": "stdout",
     "output_type": "stream",
     "text": [
      "+----------------------+----------------------------+\n",
      "|         Test         |           Result           |\n",
      "+----------------------+----------------------------+\n",
      "|     HTTPS Check      |      Insecure (HTTP)       |\n",
      "| Authentication Check |  Accessible (Status: 200)  |\n",
      "| Sensitive Data Check | No sensitive data detected |\n",
      "+----------------------+----------------------------+\n"
     ]
    }
   ],
   "execution_count": 30
  },
  {
   "metadata": {
    "ExecuteTime": {
     "end_time": "2024-11-21T13:28:31.500571Z",
     "start_time": "2024-11-21T13:28:31.478760Z"
    }
   },
   "cell_type": "code",
   "source": [
    "{\n",
    "    \"sensitive_keywords\": [\"key\", \"token\", \"password\", \"ssn\", \"credit\", \"card\"]\n",
    "}"
   ],
   "id": "bf01a7863c8129f9",
   "outputs": [
    {
     "data": {
      "text/plain": [
       "{'sensitive_keywords': ['key', 'token', 'password', 'ssn', 'credit', 'card']}"
      ]
     },
     "execution_count": 31,
     "metadata": {},
     "output_type": "execute_result"
    }
   ],
   "execution_count": 31
  },
  {
   "metadata": {
    "ExecuteTime": {
     "end_time": "2024-11-21T13:28:34.374281Z",
     "start_time": "2024-11-21T13:28:34.190394Z"
    }
   },
   "cell_type": "code",
   "source": [
    "with open('config.json') as f:\n",
    "    config = json.load(f)\n",
    "sensitive_keywords = config[\"sensitive_keywords\"]"
   ],
   "id": "b84fd47366ae434a",
   "outputs": [
    {
     "ename": "FileNotFoundError",
     "evalue": "[Errno 2] No such file or directory: 'config.json'",
     "output_type": "error",
     "traceback": [
      "\u001B[1;31m---------------------------------------------------------------------------\u001B[0m",
      "\u001B[1;31mFileNotFoundError\u001B[0m                         Traceback (most recent call last)",
      "Cell \u001B[1;32mIn[32], line 1\u001B[0m\n\u001B[1;32m----> 1\u001B[0m \u001B[38;5;28;01mwith\u001B[39;00m \u001B[38;5;28;43mopen\u001B[39;49m\u001B[43m(\u001B[49m\u001B[38;5;124;43m'\u001B[39;49m\u001B[38;5;124;43mconfig.json\u001B[39;49m\u001B[38;5;124;43m'\u001B[39;49m\u001B[43m)\u001B[49m \u001B[38;5;28;01mas\u001B[39;00m f:\n\u001B[0;32m      2\u001B[0m     config \u001B[38;5;241m=\u001B[39m json\u001B[38;5;241m.\u001B[39mload(f)\n\u001B[0;32m      3\u001B[0m sensitive_keywords \u001B[38;5;241m=\u001B[39m config[\u001B[38;5;124m\"\u001B[39m\u001B[38;5;124msensitive_keywords\u001B[39m\u001B[38;5;124m\"\u001B[39m]\n",
      "File \u001B[1;32mD:\\Projects\\Master\\APISecurityTester\\.venv\\Lib\\site-packages\\IPython\\core\\interactiveshell.py:324\u001B[0m, in \u001B[0;36m_modified_open\u001B[1;34m(file, *args, **kwargs)\u001B[0m\n\u001B[0;32m    317\u001B[0m \u001B[38;5;28;01mif\u001B[39;00m file \u001B[38;5;129;01min\u001B[39;00m {\u001B[38;5;241m0\u001B[39m, \u001B[38;5;241m1\u001B[39m, \u001B[38;5;241m2\u001B[39m}:\n\u001B[0;32m    318\u001B[0m     \u001B[38;5;28;01mraise\u001B[39;00m \u001B[38;5;167;01mValueError\u001B[39;00m(\n\u001B[0;32m    319\u001B[0m         \u001B[38;5;124mf\u001B[39m\u001B[38;5;124m\"\u001B[39m\u001B[38;5;124mIPython won\u001B[39m\u001B[38;5;124m'\u001B[39m\u001B[38;5;124mt let you open fd=\u001B[39m\u001B[38;5;132;01m{\u001B[39;00mfile\u001B[38;5;132;01m}\u001B[39;00m\u001B[38;5;124m by default \u001B[39m\u001B[38;5;124m\"\u001B[39m\n\u001B[0;32m    320\u001B[0m         \u001B[38;5;124m\"\u001B[39m\u001B[38;5;124mas it is likely to crash IPython. If you know what you are doing, \u001B[39m\u001B[38;5;124m\"\u001B[39m\n\u001B[0;32m    321\u001B[0m         \u001B[38;5;124m\"\u001B[39m\u001B[38;5;124myou can use builtins\u001B[39m\u001B[38;5;124m'\u001B[39m\u001B[38;5;124m open.\u001B[39m\u001B[38;5;124m\"\u001B[39m\n\u001B[0;32m    322\u001B[0m     )\n\u001B[1;32m--> 324\u001B[0m \u001B[38;5;28;01mreturn\u001B[39;00m \u001B[43mio_open\u001B[49m\u001B[43m(\u001B[49m\u001B[43mfile\u001B[49m\u001B[43m,\u001B[49m\u001B[43m \u001B[49m\u001B[38;5;241;43m*\u001B[39;49m\u001B[43margs\u001B[49m\u001B[43m,\u001B[49m\u001B[43m \u001B[49m\u001B[38;5;241;43m*\u001B[39;49m\u001B[38;5;241;43m*\u001B[39;49m\u001B[43mkwargs\u001B[49m\u001B[43m)\u001B[49m\n",
      "\u001B[1;31mFileNotFoundError\u001B[0m: [Errno 2] No such file or directory: 'config.json'"
     ]
    }
   ],
   "execution_count": 32
  }
 ],
 "metadata": {
  "kernelspec": {
   "display_name": "Python 3",
   "language": "python",
   "name": "python3"
  },
  "language_info": {
   "codemirror_mode": {
    "name": "ipython",
    "version": 2
   },
   "file_extension": ".py",
   "mimetype": "text/x-python",
   "name": "python",
   "nbconvert_exporter": "python",
   "pygments_lexer": "ipython2",
   "version": "2.7.6"
  }
 },
 "nbformat": 4,
 "nbformat_minor": 5
}
