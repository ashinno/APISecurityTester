{
 "cells": [
  {
   "metadata": {},
   "cell_type": "markdown",
   "source": [
    "# Mobile App API Security Tester\n",
    "This notebook demonstrates how to test APIs for common security vulnerabilities, including:\n",
    "- Weak or missing authentication mechanisms.\n",
    "- Unsecured API calls using HTTP.\n",
    "- Sensitive data exposure in API responses or headers.\n"
   ],
   "id": "17728cafdefe0731"
  },
  {
   "cell_type": "code",
   "id": "initial_id",
   "metadata": {
    "collapsed": true,
    "ExecuteTime": {
     "end_time": "2024-11-21T12:41:13.139793Z",
     "start_time": "2024-11-21T12:41:13.136139Z"
    }
   },
   "source": [
    "import requests\n",
    "from prettytable import PrettyTable\n",
    "import json\n",
    "from urllib.parse import urlparse"
   ],
   "outputs": [],
   "execution_count": 16
  },
  {
   "metadata": {
    "ExecuteTime": {
     "end_time": "2024-11-21T12:41:13.176843Z",
     "start_time": "2024-11-21T12:41:13.172539Z"
    }
   },
   "cell_type": "code",
   "source": [
    "def check_https(url):\n",
    "    \"\"\"\n",
    "    Checks if the API endpoint uses HTTPS.\n",
    "    \"\"\"\n",
    "    parsed_url = urlparse(url)\n",
    "    if parsed_url.scheme != 'https':\n",
    "        return \"Insecure (HTTP)\"\n",
    "    return \"Secure (HTTPS)\"\n"
   ],
   "id": "f00bc32c237bdb0",
   "outputs": [],
   "execution_count": 17
  },
  {
   "metadata": {
    "ExecuteTime": {
     "end_time": "2024-11-21T12:41:13.206825Z",
     "start_time": "2024-11-21T12:41:13.199564Z"
    }
   },
   "cell_type": "code",
   "source": [
    "def test_authentication(url, headers=None):\n",
    "    \"\"\"\n",
    "    Tests for missing or weak authentication tokens.\n",
    "    Returns the response status and headers.\n",
    "    \"\"\"\n",
    "    try:\n",
    "        response = requests.get(url, headers=headers, timeout=5)\n",
    "        if response.status_code == 401:\n",
    "            return \"Unauthorized (Authentication Required)\"\n",
    "        elif response.status_code == 403:\n",
    "            return \"Forbidden (Token Invalid or Insufficient Permissions)\"\n",
    "        return f\"Accessible (Status: {response.status_code})\"\n",
    "    except requests.exceptions.RequestException as e:\n",
    "        return f\"Error: {str(e)}\"\n"
   ],
   "id": "b5815a0389ee4f27",
   "outputs": [],
   "execution_count": 18
  },
  {
   "metadata": {
    "ExecuteTime": {
     "end_time": "2024-11-21T12:41:13.222536Z",
     "start_time": "2024-11-21T12:41:13.215317Z"
    }
   },
   "cell_type": "code",
   "source": [
    "def detect_sensitive_data(response):\n",
    "    \"\"\"\n",
    "    Scans API response for sensitive information like API keys or PII.\n",
    "    \"\"\"\n",
    "    sensitive_keywords = ['key', 'token', 'password', 'ssn', 'credit', 'card']\n",
    "    findings = []\n",
    "\n",
    "    try:\n",
    "        # Check response JSON\n",
    "        if response.headers.get('Content-Type') == 'application/json':\n",
    "            data = response.json()\n",
    "            for key in data.keys():\n",
    "                if any(sensitive in key.lower() for sensitive in sensitive_keywords):\n",
    "                    findings.append(f\"Sensitive key detected: {key}\")\n",
    "\n",
    "        # Check headers\n",
    "        for key, value in response.headers.items():\n",
    "            if any(sensitive in key.lower() for sensitive in sensitive_keywords):\n",
    "                findings.append(f\"Sensitive header detected: {key}\")\n",
    "    except json.JSONDecodeError:\n",
    "        pass  # Response is not JSON\n",
    "\n",
    "    return findings or \"No sensitive data detected\"\n"
   ],
   "id": "ba10ba71a5310929",
   "outputs": [],
   "execution_count": 19
  },
  {
   "metadata": {
    "ExecuteTime": {
     "end_time": "2024-11-21T12:41:13.242727Z",
     "start_time": "2024-11-21T12:41:13.235397Z"
    }
   },
   "cell_type": "code",
   "source": [
    "def run_security_tests(url, headers=None):\n",
    "    \"\"\"\n",
    "    Runs all security tests on the given URL.\n",
    "    \"\"\"\n",
    "    results = []\n",
    "\n",
    "    # Test for HTTPS\n",
    "    https_status = check_https(url)\n",
    "    results.append((\"HTTPS Check\", https_status))\n",
    "\n",
    "    # Test authentication\n",
    "    auth_status = test_authentication(url, headers)\n",
    "    results.append((\"Authentication Check\", auth_status))\n",
    "\n",
    "    # Test sensitive data exposure\n",
    "    try:\n",
    "        response = requests.get(url, headers=headers, timeout=5)\n",
    "        sensitive_data = detect_sensitive_data(response)\n",
    "    except requests.exceptions.RequestException as e:\n",
    "        sensitive_data = [f\"Error: {str(e)}\"]\n",
    "    results.append((\"Sensitive Data Check\", sensitive_data))\n",
    "\n",
    "    return results\n"
   ],
   "id": "a893530c7579cade",
   "outputs": [],
   "execution_count": 20
  },
  {
   "metadata": {
    "ExecuteTime": {
     "end_time": "2024-11-21T12:41:13.258232Z",
     "start_time": "2024-11-21T12:41:13.253043Z"
    }
   },
   "cell_type": "code",
   "source": [
    "def display_report(results):\n",
    "    \"\"\"\n",
    "    Displays the test results in a tabular format.\n",
    "    \"\"\"\n",
    "    table = PrettyTable()\n",
    "    table.field_names = [\"Test\", \"Result\"]\n",
    "    for test, result in results:\n",
    "        if isinstance(result, list):\n",
    "            result = \"\\n\".join(result)\n",
    "        table.add_row([test, result])\n",
    "    print(table)\n"
   ],
   "id": "a1aaf2a8d5eaf01c",
   "outputs": [],
   "execution_count": 21
  },
  {
   "metadata": {
    "ExecuteTime": {
     "end_time": "2024-11-21T12:41:15.305542Z",
     "start_time": "2024-11-21T12:41:13.270362Z"
    }
   },
   "cell_type": "code",
   "source": [
    "# Example API URL\n",
    "url = \"http://example.com/api/test\"\n",
    "headers = {\n",
    "    \"Authorization\": \"Bearer example_token\"\n",
    "}\n",
    "\n",
    "# Run tests\n",
    "results = run_security_tests(url, headers)\n",
    "\n",
    "# Display report\n",
    "display_report(results)\n"
   ],
   "id": "6cdad582619e7c64",
   "outputs": [
    {
     "name": "stdout",
     "output_type": "stream",
     "text": [
      "+----------------------+----------------------------+\n",
      "|         Test         |           Result           |\n",
      "+----------------------+----------------------------+\n",
      "|     HTTPS Check      |      Insecure (HTTP)       |\n",
      "| Authentication Check |  Accessible (Status: 404)  |\n",
      "| Sensitive Data Check | No sensitive data detected |\n",
      "+----------------------+----------------------------+\n"
     ]
    }
   ],
   "execution_count": 22
  },
  {
   "metadata": {
    "ExecuteTime": {
     "end_time": "2024-11-21T12:41:15.342398Z",
     "start_time": "2024-11-21T12:41:15.330790Z"
    }
   },
   "cell_type": "code",
   "source": [
    "import argparse\n",
    "\n",
    "if __name__ == \"__main__\":\n",
    "    parser = argparse.ArgumentParser(description=\"Mobile App API Security Tester\")\n",
    "    parser.add_argument(\"url\", help=\"API endpoint URL\")\n",
    "    parser.add_argument(\"--headers\", help=\"Headers as JSON string\", default=\"{}\")\n",
    "    args = parser.parse_args()\n",
    "\n",
    "    url = args.url\n",
    "    headers = json.loads(args.headers)\n",
    "\n",
    "    results = run_security_tests(url, headers)\n",
    "    display_report(results)\n"
   ],
   "id": "57faf75a66f50606",
   "outputs": [
    {
     "name": "stderr",
     "output_type": "stream",
     "text": [
      "usage: ipykernel_launcher.py [-h] [--headers HEADERS] url\n",
      "ipykernel_launcher.py: error: unrecognized arguments: -f\n"
     ]
    },
    {
     "ename": "SystemExit",
     "evalue": "2",
     "output_type": "error",
     "traceback": [
      "An exception has occurred, use %tb to see the full traceback.\n",
      "\u001B[1;31mSystemExit\u001B[0m\u001B[1;31m:\u001B[0m 2\n"
     ]
    },
    {
     "name": "stderr",
     "output_type": "stream",
     "text": [
      "D:\\Projects\\Master\\APISecurityTester\\.venv\\Lib\\site-packages\\IPython\\core\\interactiveshell.py:3585: UserWarning: To exit: use 'exit', 'quit', or Ctrl-D.\n",
      "  warn(\"To exit: use 'exit', 'quit', or Ctrl-D.\", stacklevel=1)\n"
     ]
    }
   ],
   "execution_count": 23
  },
  {
   "metadata": {},
   "cell_type": "code",
   "outputs": [],
   "execution_count": null,
   "source": [
    "{\n",
    "    \"sensitive_keywords\": [\"key\", \"token\", \"password\", \"ssn\", \"credit\", \"card\"]\n",
    "}\n"
   ],
   "id": "bf01a7863c8129f9"
  },
  {
   "metadata": {},
   "cell_type": "code",
   "outputs": [],
   "execution_count": null,
   "source": [
    "with open('config.json') as f:\n",
    "    config = json.load(f)\n",
    "sensitive_keywords = config[\"sensitive_keywords\"]\n"
   ],
   "id": "b84fd47366ae434a"
  }
 ],
 "metadata": {
  "kernelspec": {
   "display_name": "Python 3",
   "language": "python",
   "name": "python3"
  },
  "language_info": {
   "codemirror_mode": {
    "name": "ipython",
    "version": 2
   },
   "file_extension": ".py",
   "mimetype": "text/x-python",
   "name": "python",
   "nbconvert_exporter": "python",
   "pygments_lexer": "ipython2",
   "version": "2.7.6"
  }
 },
 "nbformat": 4,
 "nbformat_minor": 5
}
